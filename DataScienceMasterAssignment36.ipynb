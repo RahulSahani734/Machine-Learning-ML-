{
 "cells": [
  {
   "cell_type": "markdown",
   "metadata": {
    "id": "FzX5v2xCeW89"
   },
   "source": [
    "## Q.1 Explain the following with example"
   ]
  },
  {
   "cell_type": "markdown",
   "metadata": {
    "id": "9xE5M-pGekms"
   },
   "source": [
    "## a)Artificial intelligence\n",
    "## b) Machine learning\n",
    "## c) Deep learning"
   ]
  },
  {
   "cell_type": "markdown",
   "metadata": {
    "id": "S9_VrlcHfJ-Q"
   },
   "source": [
    "\n",
    "a) **Artificial Intelligence (AI):**\n",
    "   Artificial Intelligence refers to the simulation of human intelligence in machines that are programmed to think and learn like humans. AI encompasses a wide range of techniques, including problem-solving, natural language processing, computer vision, and more.\n",
    "\n",
    "   Example: A common example of AI is a virtual assistant like Apple's Siri or Amazon's Alexa. These systems use AI algorithms to understand and respond to user voice commands, allowing users to ask questions, set reminders, or control smart devices.\n",
    "\n",
    "b) **Machine Learning (ML):**\n",
    "   Machine Learning is a subset of AI that focuses on the development of algorithms and statistical models that enable computers to improve their performance on a specific task through learning from data, without being explicitly programmed.\n",
    "\n",
    "   Example: Spam email filters are a classic example of machine learning. These filters learn from a large dataset of emails to identify patterns and characteristics associated with spam. As more data is processed, the filter becomes better at distinguishing between spam and legitimate emails.\n",
    "\n",
    "c) **Deep Learning (DL):**\n",
    "   Deep Learning is a subfield of machine learning that uses artificial neural networks to model and solve complex problems. These networks are inspired by the structure and function of the human brain and are capable of automatically learning hierarchical representations of data.\n",
    "\n",
    "   Example: Image recognition is often powered by deep learning. For instance, convolutional neural networks (CNNs) can be trained to recognize objects in images. An example is the development of self-driving cars where deep learning models process images from cameras to detect pedestrians, road signs, and other vehicles.\n",
    "\n",
    "In summary, AI is the overarching field of creating intelligent machines, ML is a subset of AI that focuses on teaching machines to learn from data, and DL is a subset of ML that utilizes neural networks, particularly deep neural networks, for solving complex problems, often involving large datasets like images or text."
   ]
  },
  {
   "cell_type": "code",
   "execution_count": null,
   "metadata": {
    "id": "fWkWo7z5d-CJ"
   },
   "outputs": [],
   "source": []
  },
  {
   "cell_type": "markdown",
   "metadata": {
    "id": "jdn9B6lzffFM"
   },
   "source": [
    "## Q.2 What is supervised learnig ? list some example of it.\n"
   ]
  },
  {
   "cell_type": "markdown",
   "metadata": {
    "id": "Fi_7r-zSfgcM"
   },
   "source": [
    "**Supervised learning** is a type of machine learning where an algorithm learns from labeled training data to make predictions or decisions without human intervention. In supervised learning, the algorithm is provided with a dataset where the input data is paired with the corresponding correct output or target variable. The algorithm's goal is to learn a mapping function that can accurately predict the target variable for new, unseen data.\n",
    "\n",
    "Here are some examples of supervised learning:\n",
    "\n",
    "1. **Image Classification:** Given a dataset of images with labels (e.g., cats and dogs), a supervised learning algorithm can learn to classify new images into the correct categories.\n",
    "\n",
    "2. **Spam Email Detection:** In email filtering, the algorithm is trained on a labeled dataset of emails (spam and not spam). It learns to classify incoming emails as either spam or not spam based on their content.\n",
    "\n",
    "3. **Sentiment Analysis:** Supervised learning can be used to analyze text sentiment. For example, given a dataset of customer reviews labeled as positive or negative, a model can be trained to predict the sentiment of new reviews.\n",
    "\n",
    "4. **Handwriting Recognition:** In this application, the algorithm learns to recognize handwritten characters or words. It's used in optical character recognition (OCR) systems.\n",
    "\n",
    "5. **Medical Diagnosis:** Supervised learning can be employed to predict medical conditions based on patient data and medical records. For instance, predicting whether a patient has diabetes based on their health measurements.\n",
    "\n",
    "6. **Stock Price Prediction:** Finance uses supervised learning to forecast stock prices based on historical data and various market indicators.\n",
    "\n",
    "7. **Language Translation:** In machine translation, models are trained on parallel text corpora where each sentence in one language is paired with its translation in another language.\n",
    "\n",
    "8. **Credit Scoring:** Banks use supervised learning to assess the creditworthiness of loan applicants by learning from historical data on loan outcomes.\n",
    "\n",
    "9. **Autonomous Driving:** Self-driving cars use supervised learning to recognize road signs, pedestrians, and other vehicles to make driving decisions.\n",
    "\n",
    "10. **Recommendation Systems:** Online platforms like Netflix or Amazon use supervised learning to suggest products or content to users based on their past behavior and preferences.\n",
    "\n",
    "In supervised learning, the quality and quantity of labeled training data play a crucial role in the model's performance. The algorithm learns from this data to generalize patterns and make accurate predictions or classifications for new, unseen data."
   ]
  },
  {
   "cell_type": "code",
   "execution_count": null,
   "metadata": {
    "id": "OWsHPy8JfkY1"
   },
   "outputs": [],
   "source": []
  },
  {
   "cell_type": "markdown",
   "metadata": {
    "id": "QGHbfDQ1fk6K"
   },
   "source": [
    "## Q.3 What is unsupervised learning ? list some example of it.\n"
   ]
  },
  {
   "cell_type": "markdown",
   "metadata": {
    "id": "A-4g6Fe5f1Jl"
   },
   "source": [
    "**Unsupervised learning** is a type of machine learning where the algorithm is trained on unlabeled data and is tasked with finding patterns, structure, or relationships within the data without explicit guidance or labeled outputs. In unsupervised learning, the algorithm explores the data's inherent structure to identify clusters, associations, or dimensions that can provide valuable insights.\n",
    "\n",
    "Here are some examples of unsupervised learning:\n",
    "\n",
    "1. **Clustering:** Unsupervised learning can be used for clustering similar data points together. For instance, the k-means clustering algorithm can group customers into segments based on their purchase behavior without predefined labels.\n",
    "\n",
    "2. **Dimensionality Reduction:** Techniques like Principal Component Analysis (PCA) reduce the number of features (dimensions) in a dataset while retaining as much relevant information as possible. This is used for data compression, visualization, or noise reduction.\n",
    "\n",
    "3. **Anomaly Detection:** Unsupervised learning can identify unusual patterns or anomalies in data. This is particularly useful in fraud detection, where it can identify transactions that deviate from normal behavior.\n",
    "\n",
    "4. **Topic Modeling:** In natural language processing, unsupervised learning is used to discover topics within a collection of documents. Latent Dirichlet Allocation (LDA) is a popular algorithm for this purpose.\n",
    "\n",
    "5. **Recommendation Systems:** Collaborative filtering, a common technique in recommendation systems, can be considered unsupervised learning. It identifies patterns and preferences in user behavior to recommend products or content.\n",
    "\n",
    "6. **Density Estimation:** Unsupervised learning can estimate the probability density function of a dataset, which is useful in statistical analysis and modeling.\n",
    "\n",
    "7. **Image Compression:** In image processing, unsupervised learning can be used to compress images by identifying and encoding patterns and structures in the image data.\n",
    "\n",
    "8. **Market Basket Analysis:** Unsupervised learning can discover associations between products that are frequently purchased together in a retail setting. This information is valuable for inventory management and marketing strategies.\n",
    "\n",
    "9. **Analogous to Autoencoders:** Autoencoders are a type of neural network used in unsupervised learning. They aim to encode the input data into a lower-dimensional representation and then decode it back to the original format. Autoencoders can be used for tasks like denoising images or generating new data samples.\n",
    "\n",
    "10. **Data Visualization:** Unsupervised learning techniques can be used to project high-dimensional data into lower-dimensional spaces, allowing for visualization and exploration of data patterns.\n",
    "\n",
    "In unsupervised learning, the primary goal is to discover hidden patterns or structures within the data, which can later be used for various purposes such as decision-making, feature engineering, or gaining insights into the underlying data distribution. Unlike supervised learning, there is no predefined target variable to predict or optimize. Instead, the algorithm explores the data on its own."
   ]
  },
  {
   "cell_type": "code",
   "execution_count": null,
   "metadata": {
    "id": "tBhzJ-Naf3TG"
   },
   "outputs": [],
   "source": []
  },
  {
   "cell_type": "markdown",
   "metadata": {
    "id": "c7icFr8if3pi"
   },
   "source": [
    "## Q.4 What is the difference between AI,ML,DL,DS?\n",
    "\n"
   ]
  },
  {
   "cell_type": "markdown",
   "metadata": {
    "id": "wND1L6--gStK"
   },
   "source": [
    "AI, ML, DL, and DS are related fields, but they have distinct differences. Here's a breakdown of their differences:\n",
    "\n",
    "1. **Artificial Intelligence (AI):**\n",
    "   - **Definition:** AI refers to the broader concept of creating machines or systems that can perform tasks that would typically require human intelligence, such as problem-solving, reasoning, learning, and decision-making.\n",
    "   - **Scope:** AI encompasses a wide range of techniques and approaches, including but not limited to machine learning and deep learning. It also includes rule-based systems, expert systems, and symbolic reasoning.\n",
    "   - **Examples:** Virtual assistants (e.g., Siri, Alexa), autonomous robots, game-playing AI (e.g., chess or Go-playing programs), and natural language processing (NLP) systems are examples of AI applications.\n",
    "\n",
    "2. **Machine Learning (ML):**\n",
    "   - **Definition:** ML is a subset of AI that focuses on the development of algorithms and models that enable computers to learn from data and make predictions or decisions without being explicitly programmed.\n",
    "   - **Scope:** ML involves statistical and computational techniques for training models on data, optimizing them, and using them for tasks like classification, regression, clustering, and recommendation.\n",
    "   - **Examples:** Spam email filters, image recognition, recommendation systems (e.g., Netflix recommendations), and predictive analytics in various domains are common applications of ML.\n",
    "\n",
    "3. **Deep Learning (DL):**\n",
    "   - **Definition:** DL is a subset of machine learning that uses artificial neural networks with multiple layers (deep neural networks) to model and solve complex problems, especially those involving large amounts of data, such as images, audio, and text.\n",
    "   - **Scope:** DL excels in tasks like image and speech recognition, natural language understanding, and generative tasks. It relies on hierarchical representations of data.\n",
    "   - **Examples:** Convolutional Neural Networks (CNNs) for image recognition, Recurrent Neural Networks (RNNs) for natural language processing, and Generative Adversarial Networks (GANs) for image generation are examples of DL techniques.\n",
    "\n",
    "4. **Data Science (DS):**\n",
    "   - **Definition:** Data Science is an interdisciplinary field that combines techniques from statistics, computer science, domain knowledge, and ML to extract insights and knowledge from data.\n",
    "   - **Scope:** DS encompasses the entire data analysis process, including data collection, cleaning, exploration, visualization, feature engineering, and modeling. It often involves the use of ML and statistical techniques.\n",
    "   - **Examples:** Predictive modeling, data visualization, A/B testing, and data-driven decision-making in various industries are applications of data science.\n",
    "\n",
    "In summary, AI is the overarching concept of creating intelligent machines, ML is a subset of AI that focuses on learning from data, DL is a subset of ML that uses deep neural networks, and DS is an interdisciplinary field that involves the entire data analysis process, often using ML and statistical techniques. AI, ML, and DL are closely related, and they are used in various applications within the field of data science."
   ]
  },
  {
   "cell_type": "code",
   "execution_count": null,
   "metadata": {
    "id": "GC5XkrwzgURd"
   },
   "outputs": [],
   "source": []
  },
  {
   "cell_type": "markdown",
   "metadata": {
    "id": "HAQsDDt3gUrd"
   },
   "source": [
    "## Q.5 What is the difference between supervised ,unsupervised ,semi-supervised  learning?\n"
   ]
  },
  {
   "cell_type": "markdown",
   "metadata": {
    "id": "xCti_dWVgnfr"
   },
   "source": [
    "Supervised learning, unsupervised learning, and semi-supervised learning are three different types of machine learning paradigms, and they differ primarily in how they use labeled and unlabeled data. Here's a breakdown of the key differences:\n",
    "\n",
    "1. **Supervised Learning:**\n",
    "   - **Labeled Data:** In supervised learning, the algorithm is trained on a dataset that contains both input data and corresponding output labels. This means every example in the training data is paired with the correct answer or target.\n",
    "   - **Objective:** The objective is to learn a mapping or function that can accurately predict the target variable for new, unseen data.\n",
    "   - **Examples:** Classification (e.g., spam vs. non-spam email detection), regression (e.g., predicting house prices), and object recognition (e.g., identifying objects in images) are common tasks in supervised learning.\n",
    "\n",
    "2. **Unsupervised Learning:**\n",
    "   - **Unlabeled Data:** Unsupervised learning uses data that is not labeled with corresponding output values. The algorithm's goal is to discover patterns, structures, or relationships within the data on its own.\n",
    "   - **Objective:** It aims to uncover hidden structures in the data, such as clusters (grouping similar data points) or dimensions (reducing the data's dimensionality).\n",
    "   - **Examples:** Clustering (e.g., grouping customers based on purchase behavior), dimensionality reduction (e.g., Principal Component Analysis), and anomaly detection (e.g., detecting fraud) are common unsupervised learning tasks.\n",
    "\n",
    "3. **Semi-Supervised Learning:**\n",
    "   - **Mix of Labeled and Unlabeled Data:** Semi-supervised learning is a hybrid approach that uses a combination of labeled and unlabeled data for training. Typically, labeled data is scarce and expensive to obtain, while unlabeled data is abundant.\n",
    "   - **Objective:** The goal is to leverage the additional information provided by the unlabeled data to improve the model's performance. This can lead to more accurate and generalizable models, especially when labeled data is limited.\n",
    "   - **Examples:** Semi-supervised learning can be applied in scenarios where acquiring labeled data is costly or time-consuming. For instance, in a dataset of customer reviews, only a small subset may be labeled for sentiment analysis, while the majority of reviews are unlabeled.\n",
    "\n",
    "In summary:\n",
    "\n",
    "- **Supervised learning** uses labeled data and aims to learn a predictive model.\n",
    "- **Unsupervised learning** uses unlabeled data to discover patterns or structures in the data.\n",
    "- **Semi-supervised learning** combines both labeled and unlabeled data to improve model performance, particularly when labeled data is scarce.\n",
    "\n",
    "The choice of which learning paradigm to use depends on the specific problem and the availability of labeled data. Supervised learning is suitable when you have a well-defined target variable, while unsupervised learning is used for tasks where there's no clear target. Semi-supervised learning is beneficial when labeled data is limited but can enhance the model's performance when combined with abundant unlabeled data."
   ]
  },
  {
   "cell_type": "code",
   "execution_count": null,
   "metadata": {
    "id": "g-im6zD-gwe8"
   },
   "outputs": [],
   "source": []
  },
  {
   "cell_type": "markdown",
   "metadata": {
    "id": "Pvyy-GbZgw-T"
   },
   "source": [
    "## Q.6 What is train , test, and validation split ? Explain the importance of each of them .\n",
    "\n"
   ]
  },
  {
   "cell_type": "markdown",
   "metadata": {
    "id": "SspIrY7zhRGP"
   },
   "source": [
    "In machine learning, the process of splitting a dataset into three subsets—training, validation, and testing sets—is crucial for developing and evaluating models effectively. Each of these subsets serves a specific purpose in the machine learning workflow:\n",
    "\n",
    "1. **Training Set:**\n",
    "   - **Purpose:** The training set is used to train the machine learning model. It contains a large portion of the dataset, including input features and their corresponding target labels (in supervised learning).\n",
    "   - **Importance:** The training set is essential for the model to learn the underlying patterns, relationships, and decision boundaries within the data. The model adjusts its parameters during training to minimize its prediction errors on this data.\n",
    "\n",
    "2. **Validation Set:**\n",
    "   - **Purpose:** The validation set is used to fine-tune the model's hyperparameters and to estimate its performance during development. It's sometimes called the \"development set.\"\n",
    "   - **Importance:** Hyperparameters are settings that control the model's behavior but are not learned from the data. By evaluating the model's performance on the validation set, you can make informed decisions about hyperparameter tuning. This helps prevent overfitting (where the model performs well on the training data but poorly on new data) and allows you to select the best model configuration.\n",
    "\n",
    "3. **Testing Set:**\n",
    "   - **Purpose:** The testing set is used to assess the model's generalization performance after it has been trained and fine-tuned on the training and validation sets. It is a completely separate subset that the model has never seen during training.\n",
    "   - **Importance:** The testing set provides an unbiased estimate of the model's performance on unseen, real-world data. It helps you understand how well the model is likely to perform in a production or deployment setting. This evaluation is critical for making decisions about model deployment or further improvements.\n",
    "\n",
    "**Importance of Each Split:**\n",
    "- **Training Set:** This is where the model learns the underlying patterns and relationships in the data. A well-representative training set is crucial for building a robust model.\n",
    "\n",
    "- **Validation Set:** Hyperparameter tuning is a critical step in building a well-performing model. The validation set helps you fine-tune these settings and ensures your model doesn't overfit to the training data.\n",
    "\n",
    "- **Testing Set:** The testing set provides an objective evaluation of your model's performance on new, unseen data. It helps you assess how well your model generalizes and whether it meets the desired level of performance for your application.\n",
    "\n",
    "Properly splitting your dataset into these subsets is essential for the entire machine learning development process. It helps you train models effectively, optimize their hyperparameters, and make informed decisions about their deployment. It also provides a measure of how well your model is likely to perform in real-world scenarios, which is a critical consideration for any machine learning application."
   ]
  },
  {
   "cell_type": "code",
   "execution_count": null,
   "metadata": {
    "id": "p--f8Orwgwkl"
   },
   "outputs": [],
   "source": []
  },
  {
   "cell_type": "markdown",
   "metadata": {
    "id": "sDTA46rmhTi8"
   },
   "source": [
    "## Q.7 Haw can unsupervised learning be used in anomaly detection?\n",
    "\n"
   ]
  },
  {
   "cell_type": "markdown",
   "metadata": {
    "id": "R-WwGAmZhyvU"
   },
   "source": [
    "Unsupervised learning is commonly used in anomaly detection because it can identify patterns and structures in data without the need for labeled examples of anomalies. Anomaly detection involves finding data points or instances that deviate significantly from the norm or exhibit unusual behavior. Here's how unsupervised learning can be applied to this task:\n",
    "\n",
    "1. **Data Representation:**\n",
    "   - First, you need to represent your data in a way that unsupervised learning algorithms can work with. This often involves feature engineering to extract relevant features from your data or using dimensionality reduction techniques like Principal Component Analysis (PCA) to reduce the number of features while preserving important information.\n",
    "\n",
    "2. **Clustering Methods:**\n",
    "   - One common approach to anomaly detection is clustering. Unsupervised clustering algorithms like k-means or DBSCAN group similar data points together. Data points that do not fit well into any cluster or are far from the cluster centers can be considered potential anomalies.\n",
    "\n",
    "3. **Density-Based Approaches:**\n",
    "   - Density-based anomaly detection algorithms, such as the Local Outlier Factor (LOF), identify anomalies based on variations in data density. Data points that have significantly lower densities than their neighbors are flagged as anomalies.\n",
    "\n",
    "4. **Isolation Forest:**\n",
    "   - The Isolation Forest algorithm is specifically designed for anomaly detection. It works by building a binary tree structure that isolates anomalies in a dataset more quickly than normal data points. Anomalies are identified as data points with shorter average path lengths in the tree.\n",
    "\n",
    "5. **Autoencoders:**\n",
    "   - Autoencoders are a type of neural network used for dimensionality reduction and feature learning. In the context of anomaly detection, they can learn a compressed representation of the data. Anomalies may have reconstruction errors that are significantly higher than normal data points, making them detectable.\n",
    "\n",
    "6. **One-Class SVM (Support Vector Machine):**\n",
    "   - One-Class SVM is a machine learning algorithm designed for binary classification where one class (normal data) is well-represented, and the other class (anomalies) is underrepresented. It learns to separate normal data from anomalies.\n",
    "\n",
    "7. **Statistical Methods:**\n",
    "   - Statistical methods like Gaussian Mixture Models (GMM) can be used to model the data distribution. Data points that have low probability under the model can be considered anomalies.\n",
    "\n",
    "8. **Ensemble Methods:**\n",
    "   - Combining multiple anomaly detection methods using ensemble techniques can enhance the accuracy and robustness of the detection process. Voting or stacking techniques can be used to make collective decisions about anomalies.\n",
    "\n",
    "The advantage of using unsupervised learning for anomaly detection is that it doesn't require labeled examples of anomalies, which can be challenging and costly to obtain in many real-world scenarios. Instead, it relies on the inherent structure and patterns present in the data to identify anomalies. However, it's important to note that unsupervised methods may produce false positives, so careful validation and fine-tuning of the anomaly detection process are essential to achieve accurate results."
   ]
  },
  {
   "cell_type": "code",
   "execution_count": null,
   "metadata": {
    "id": "skZDjxNThzH9"
   },
   "outputs": [],
   "source": []
  },
  {
   "cell_type": "markdown",
   "metadata": {
    "id": "NCd_3YiqiKlD"
   },
   "source": [
    "## Q.8 List down some commonly used supervised and unsupervised learning alogrthim .\n",
    "\n"
   ]
  },
  {
   "cell_type": "markdown",
   "metadata": {
    "id": "leVN1NxgiMyC"
   },
   "source": [
    "Certainly! Here are some commonly used supervised and unsupervised learning algorithms:\n",
    "\n",
    "**Supervised Learning Algorithms:**\n",
    "\n",
    "1. **Linear Regression:** Used for regression tasks to predict continuous numeric values.\n",
    "\n",
    "2. **Logistic Regression:** Used for binary classification tasks to predict one of two classes.\n",
    "\n",
    "3. **Decision Trees:** Effective for both classification and regression tasks, using a tree-like structure to make decisions.\n",
    "\n",
    "4. **Random Forest:** An ensemble method that combines multiple decision trees for improved accuracy and robustness.\n",
    "\n",
    "5. **Support Vector Machine (SVM):** Used for classification tasks, separating data points with a hyperplane while maximizing the margin between classes.\n",
    "\n",
    "6. **K-Nearest Neighbors (KNN):** A simple instance-based classification algorithm that classifies data points based on their similarity to neighboring points.\n",
    "\n",
    "7. **Naive Bayes:** A probabilistic classification algorithm based on Bayes' theorem, commonly used for text classification and spam detection.\n",
    "\n",
    "8. **Gradient Boosting (e.g., XGBoost, LightGBM):** Ensemble methods that build decision trees sequentially to correct errors made by previous trees.\n",
    "\n",
    "9. **Neural Networks (Deep Learning):** Multilayered artificial neural networks used for various tasks, including image recognition, natural language processing, and more.\n",
    "\n",
    "10. **Lasso and Ridge Regression:** Variations of linear regression that add regularization to prevent overfitting.\n",
    "\n",
    "**Unsupervised Learning Algorithms:**\n",
    "\n",
    "1. **K-Means Clustering:** Divides data points into K clusters based on similarity, where K is a user-defined parameter.\n",
    "\n",
    "2. **Hierarchical Clustering:** Builds a hierarchy of clusters by successively merging or splitting clusters based on similarity.\n",
    "\n",
    "3. **DBSCAN (Density-Based Spatial Clustering of Applications with Noise):** Clustering algorithm that groups data points based on their density in the feature space.\n",
    "\n",
    "4. **PCA (Principal Component Analysis):** Dimensionality reduction technique used to reduce the number of features while preserving as much variance as possible.\n",
    "\n",
    "5. **Autoencoders:** Neural networks used for dimensionality reduction and feature learning by encoding and decoding data.\n",
    "\n",
    "6. **Isolation Forest:** Anomaly detection algorithm that isolates anomalies efficiently in a binary tree structure.\n",
    "\n",
    "7. **Gaussian Mixture Models (GMM):** A probabilistic model that represents data as a mixture of Gaussian distributions, useful for clustering.\n",
    "\n",
    "8. **SOM (Self-Organizing Maps):** Unsupervised neural networks that map high-dimensional data to a lower-dimensional grid, often used for visualization and clustering.\n",
    "\n",
    "9. **Apriori Algorithm:** Used for association rule mining to discover frequent itemsets in transactional databases.\n",
    "\n",
    "10. **Word Embeddings (Word2Vec, GloVe):** Unsupervised techniques for learning vector representations of words, often used in natural language processing tasks.\n",
    "\n",
    "These are just some of the commonly used algorithms in supervised and unsupervised learning. The choice of algorithm depends on the specific problem you're trying to solve, the characteristics of your data, and your performance requirements."
   ]
  },
  {
   "cell_type": "code",
   "execution_count": null,
   "metadata": {
    "id": "07Awv7ljiO3a"
   },
   "outputs": [],
   "source": []
  }
 ],
 "metadata": {
  "colab": {
   "provenance": []
  },
  "kernelspec": {
   "display_name": "Python 3 (ipykernel)",
   "language": "python",
   "name": "python3"
  },
  "language_info": {
   "codemirror_mode": {
    "name": "ipython",
    "version": 3
   },
   "file_extension": ".py",
   "mimetype": "text/x-python",
   "name": "python",
   "nbconvert_exporter": "python",
   "pygments_lexer": "ipython3",
   "version": "3.12.2"
  }
 },
 "nbformat": 4,
 "nbformat_minor": 4
}
